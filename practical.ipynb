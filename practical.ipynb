{
 "cells": [
  {
   "cell_type": "code",
   "execution_count": 1,
   "metadata": {},
   "outputs": [
    {
     "data": {
      "text/plain": [
       "156"
      ]
     },
     "execution_count": 1,
     "metadata": {},
     "output_type": "execute_result"
    }
   ],
   "source": [
    "67+89\n"
   ]
  },
  {
   "cell_type": "code",
   "execution_count": null,
   "metadata": {},
   "outputs": [],
   "source": [
    "### Program to Showcase Name and Address."
   ]
  },
  {
   "cell_type": "code",
   "execution_count": 4,
   "metadata": {},
   "outputs": [
    {
     "name": "stdout",
     "output_type": "stream",
     "text": [
      "Enter your name  Sumeet Birole\n",
      "Enter your Address Gajanankrupa jajuwadi Arvi\n"
     ]
    },
    {
     "data": {
      "text/plain": [
       "('  Sumeet Birole', ' Gajanankrupa jajuwadi Arvi')"
      ]
     },
     "execution_count": 4,
     "metadata": {},
     "output_type": "execute_result"
    }
   ],
   "source": [
    "a= input('Enter your name')\n",
    "b= input('Enter your Address')\n",
    "a,b\n"
   ]
  },
  {
   "cell_type": "code",
   "execution_count": null,
   "metadata": {},
   "outputs": [],
   "source": [
    "### Program to calculate 'Area'##### "
   ]
  },
  {
   "cell_type": "code",
   "execution_count": 14,
   "metadata": {},
   "outputs": [
    {
     "name": "stdout",
     "output_type": "stream",
     "text": [
      "Width of the room20\n",
      "Length of the room20\n",
      "400\n"
     ]
    }
   ],
   "source": [
    "a = int(input(\"Width of the room\"))\n",
    "b = int(input(\"Length of the room\"))\n",
    "print(a*b)"
   ]
  },
  {
   "cell_type": "code",
   "execution_count": null,
   "metadata": {},
   "outputs": [],
   "source": [
    "#### Program to calculate Area of Farmers field in Acres when parameters given in \"Feet\"."
   ]
  },
  {
   "cell_type": "code",
   "execution_count": 21,
   "metadata": {},
   "outputs": [
    {
     "name": "stdout",
     "output_type": "stream",
     "text": [
      "Length of field3000\n",
      "Width of field4000\n",
      "Area of Farmers field 275.4820936639118 Acres\n"
     ]
    }
   ],
   "source": [
    "a = int(input(\"Length of field\"))\n",
    "b = int(input(\"Width of field\"))\n",
    "print(\"Area of Farmers field\",a*b/43560,\"Acres\")"
   ]
  },
  {
   "cell_type": "code",
   "execution_count": null,
   "metadata": {},
   "outputs": [],
   "source": [
    "#### Program for calculating No of Containers and Refund in ''$'' "
   ]
  },
  {
   "cell_type": "code",
   "execution_count": 5,
   "metadata": {},
   "outputs": [
    {
     "name": "stdout",
     "output_type": "stream",
     "text": [
      "cont <= 1 L 60\n",
      "cont >= 1 L 50\n",
      "Refund $  6.0\n",
      "Refund $  12.5\n"
     ]
    }
   ],
   "source": [
    "a = int(input(\"cont <= 1 L \"))\n",
    "b = int(input(\"cont >= 1 L \"))\n",
    "\n",
    "print(\"Refund $ \",a*0.1)\n",
    "print(\"Refund $ \",b*0.25)"
   ]
  },
  {
   "cell_type": "code",
   "execution_count": null,
   "metadata": {},
   "outputs": [],
   "source": [
    "####Program to calculate Final total with tip and tax display."
   ]
  },
  {
   "cell_type": "code",
   "execution_count": 26,
   "metadata": {},
   "outputs": [
    {
     "name": "stdout",
     "output_type": "stream",
     "text": [
      "Price of the meal 2000\n",
      "Tax @ 5% 100.0\n",
      "Tip @ 18% 360.0\n",
      "Total Amount 2460.0\n"
     ]
    }
   ],
   "source": [
    "a= int(input('Price of the meal'))\n",
    "\n",
    "print('Tax @ 5%',a*5/100)\n",
    "print('Tip @ 18%',a*18/100)\n",
    "\n",
    "print('Total Amount',a+a*5/100+a*18/100) \n"
   ]
  },
  {
   "cell_type": "code",
   "execution_count": null,
   "metadata": {},
   "outputs": [],
   "source": [
    "### Program to calculate a positive integer\n"
   ]
  },
  {
   "cell_type": "code",
   "execution_count": 34,
   "metadata": {},
   "outputs": [
    {
     "name": "stdout",
     "output_type": "stream",
     "text": [
      "Insert any Number 50\n",
      "1275.0\n"
     ]
    }
   ],
   "source": [
    "a = int(input('Insert any Number'))\n",
    "print((a*(a+1))/2)"
   ]
  },
  {
   "cell_type": "code",
   "execution_count": null,
   "metadata": {},
   "outputs": [],
   "source": [
    "### Program to calculate Total Weight of the Order.\n"
   ]
  },
  {
   "cell_type": "code",
   "execution_count": 46,
   "metadata": {},
   "outputs": [
    {
     "name": "stdout",
     "output_type": "stream",
     "text": [
      "No of Widget Purchased 1000\n",
      "No of Gizmos Purchased 1200\n",
      "Weight of Wideget 75000 Grams\n",
      "Weight of Gizmos 138000 Grams\n",
      "Total Weight of Purchased Items 213000 Grams\n"
     ]
    }
   ],
   "source": [
    "a = int(input('No of Widget Purchased'))\n",
    "b = int(input('No of Gizmos Purchased'))\n",
    "print('Weight of Wideget',a*75,\"Grams\")\n",
    "print('Weight of Gizmos',b*115,\"Grams\")\n",
    "print('Total Weight of Purchased Items',(a*75)+(b*115),'Grams')\n"
   ]
  },
  {
   "cell_type": "code",
   "execution_count": null,
   "metadata": {},
   "outputs": [],
   "source": [
    "###Program to Calculate Amount Accumulated in saving Account after Equal interval of years."
   ]
  },
  {
   "cell_type": "code",
   "execution_count": 30,
   "metadata": {},
   "outputs": [
    {
     "name": "stdout",
     "output_type": "stream",
     "text": [
      "Principle Amount 100000\n",
      "Rate of Interest 4\n",
      "Time 2\n"
     ]
    },
    {
     "data": {
      "text/plain": [
       "108160.00000000001"
      ]
     },
     "execution_count": 30,
     "metadata": {},
     "output_type": "execute_result"
    }
   ],
   "source": [
    "p= int(input('Principle Amount'))\n",
    "r= int(input('Rate of Interest'))\n",
    "t= int(input('Time'))\n",
    "\n",
    "ci = p*(pow((1+r/100),t))\n",
    "\n",
    "p\n",
    "r\n",
    "t\n",
    "ci\n"
   ]
  },
  {
   "cell_type": "code",
   "execution_count": null,
   "metadata": {},
   "outputs": [],
   "source": [
    "### Program to read Integers."
   ]
  },
  {
   "cell_type": "code",
   "execution_count": 46,
   "metadata": {},
   "outputs": [
    {
     "name": "stdout",
     "output_type": "stream",
     "text": [
      "Enter First Integer value 6\n",
      "Enter Second Integer value 4\n",
      "Sum of a and b is 10\n",
      "Difference is -2\n",
      "Product of a and b is 24\n",
      "Quotient 1\n",
      "Remainder 2\n"
     ]
    }
   ],
   "source": [
    "a = int(input('Enter First Integer value'))\n",
    "b = int(input('Enter Second Integer value'))\n",
    "\n",
    "print('Sum of a and b is',a+b) \n",
    "print('Difference is',b-a)\n",
    "print('Product of a and b is',a*b)\n",
    "q= a//b\n",
    "mod= a % b\n",
    "\n",
    "\n",
    "print('Quotient',q)\n",
    "print('Remainder',mod)\n",
    "\n",
    "\n",
    "\n",
    "\n",
    "\n"
   ]
  },
  {
   "cell_type": "code",
   "execution_count": null,
   "metadata": {},
   "outputs": [],
   "source": []
  }
 ],
 "metadata": {
  "kernelspec": {
   "display_name": "Python 3",
   "language": "python",
   "name": "python3"
  },
  "language_info": {
   "codemirror_mode": {
    "name": "ipython",
    "version": 3
   },
   "file_extension": ".py",
   "mimetype": "text/x-python",
   "name": "python",
   "nbconvert_exporter": "python",
   "pygments_lexer": "ipython3",
   "version": "3.7.9"
  }
 },
 "nbformat": 4,
 "nbformat_minor": 4
}
